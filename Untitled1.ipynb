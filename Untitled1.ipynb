{
 "cells": [
  {
   "cell_type": "code",
   "execution_count": 4,
   "metadata": {},
   "outputs": [
    {
     "name": "stdout",
     "output_type": "stream",
     "text": [
      "{\"b c d d\":1,\"c c b b\":1,\"c c c b\":1,\"c c c c\":1,\"c d d d\":1,\"d c c c\":1,\"d d c c\":1,\"d d d c\":1,\"d d d d\":1}\r\n",
      "{\"b c d d\":1,\"c b b b\":1,\"c c b b\":1,\"c c c b\":1,\"c d d d\":1,\"d c c c\":1,\"d d c c\":1,\"d d d c\":1,\"d d d d\":1}\r\n",
      "{\"b b c d\":1,\"b c d d\":1,\"c c c c\":3,\"c d d d\":1,\"d c c c\":1,\"d d c c\":1,\"d d d c\":1}\r\n",
      "{\"b c c d\":1,\"c c c c\":3,\"c c d d\":1,\"c d d d\":1,\"d c c c\":1,\"d d c c\":1,\"d d d c\":1}\r\n",
      "{\"b b d d\":1,\"b d d d\":1,\"c b c b\":1,\"c c b c\":1,\"c c c b\":1,\"d c c c\":1,\"d d c c\":1,\"d d d c\":1,\"d d d d\":1}\r\n",
      "{\"b b c c\":1,\"b c c d\":1,\"c c c c\":4,\"c c d c\":1,\"c d c c\":1,\"d c c c\":1}\r\n",
      "{\"b b b b\":2,\"c b b b\":1,\"c c b b\":1,\"c c d d\":1,\"c d d d\":1,\"d c c b\":1,\"d d c c\":1,\"d d d c\":1}\r\n",
      "{\"c c c b\":1,\"c c c c\":2,\"c c c d\":1,\"c c d d\":1,\"c d d d\":1,\"d c c c\":1,\"d d c c\":1,\"d d d c\":1}\r\n",
      "{\"b c c c\":1,\"c c c c\":4,\"c c c d\":1,\"c c d c\":1,\"c d c c\":1,\"d c c c\":1}\r\n",
      "{\"b c c d\":1,\"c c c b\":1,\"c c c c\":3,\"c c d d\":1,\"c d d c\":1,\"d c c c\":1,\"d d c c\":1}\r\n",
      "{\"b c c d\":1,\"c c c c\":4,\"c c d d\":1,\"c d d c\":1,\"d c c c\":1,\"d d c c\":1}\r\n",
      "{\"c b c b\":1,\"c c b c\":1,\"c c c b\":1,\"c c c c\":1,\"c c c d\":1,\"c c d d\":1,\"c d d c\":1,\"d c c c\":1,\"d d c c\":1}\r\n",
      "{\"c c c b\":1,\"c c c c\":3,\"c c c d\":1,\"c c d d\":1,\"c d d c\":1,\"d c c c\":1,\"d d c c\":1}\r\n",
      "{\"b c c d\":1,\"c c c b\":1,\"c c c c\":3,\"c c d d\":1,\"c d d c\":1,\"d c c c\":1,\"d d c c\":1}\r\n",
      "{\"b c c c\":1,\"c b c c\":1,\"c c b c\":1,\"c c c b\":1,\"c c c c\":5}\r\n",
      "{\"c c c b\":1,\"c c c c\":2,\"c c c d\":1,\"c c d d\":1,\"c d d d\":1,\"d c c c\":1,\"d d c c\":1,\"d d d c\":1}\r\n",
      "{\"b c c c\":1,\"c b c c\":1,\"c c c c\":7}\r\n"
     ]
    }
   ],
   "source": [
    "!python rebuildngramval.py -l CH -d TEM -g 4"
   ]
  },
  {
   "cell_type": "code",
   "execution_count": null,
   "metadata": {},
   "outputs": [],
   "source": []
  }
 ],
 "metadata": {
  "kernelspec": {
   "display_name": "Python 3",
   "language": "python",
   "name": "python3"
  },
  "language_info": {
   "codemirror_mode": {
    "name": "ipython",
    "version": 3
   },
   "file_extension": ".py",
   "mimetype": "text/x-python",
   "name": "python",
   "nbconvert_exporter": "python",
   "pygments_lexer": "ipython3",
   "version": "3.6.2"
  }
 },
 "nbformat": 4,
 "nbformat_minor": 2
}
