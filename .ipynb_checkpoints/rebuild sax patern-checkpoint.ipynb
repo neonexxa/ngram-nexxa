{
 "cells": [
  {
   "cell_type": "code",
   "execution_count": null,
   "metadata": {},
   "outputs": [],
   "source": [
    "import pandas as pd\n",
    "import numpy as np\n",
    "import json\n",
    "from pandas.io.json import json_normalize\n",
    "import argparse\n",
    "\n",
    "ap = argparse.ArgumentParser()\n",
    "ap.add_argument(\"-l\", \"--ln\", required = True, help = \"location name\")\n",
    "ap.add_argument(\"-d\", \"--dn\", required = True, help = \"data name\")\n",
    "ap.add_argument(\"-g\", \"--gn\", required = True, help = \"ngram name\")\n",
    "args = vars(ap.parse_args())"
   ]
  },
  {
   "cell_type": "code",
   "execution_count": null,
   "metadata": {},
   "outputs": [],
   "source": [
    "locationame = args[\"ln\"]\n",
    "dataname = args[\"dn\"]\n",
    "n = args[\"gn\"]\n",
    "data = {}\n",
    "data[dataname] = pd.read_csv('rawSAX/'+locationame+'/'+dataname.lower()+locationame.lower()+'.txt', sep=\" \", header=None)"
   ]
  },
  {
   "cell_type": "code",
   "execution_count": null,
   "metadata": {},
   "outputs": [],
   "source": [
    "def sequecingthevalue(thedata):\n",
    "    output = {}\n",
    "    for i in range(len(thedata)-n+1):\n",
    "        g = ' '.join(thedata[i:i+n])\n",
    "        output.setdefault(g, 0)\n",
    "        output[g] += 1\n",
    "    return output"
   ]
  },
  {
   "cell_type": "code",
   "execution_count": null,
   "metadata": {
    "scrolled": true
   },
   "outputs": [],
   "source": [
    "# for printing ngram values\n",
    "# text_file = open('rawSAX/'+locationame+'/CH.text\", \"a\")\n",
    "for line in range(len(data[dataname])):\n",
    "    thedata = data[dataname].loc[line].values[:12]\n",
    "    output = {}\n",
    "    for i in range(len(thedata)-n+1):\n",
    "        g = ' '.join(thedata[i:i+n])\n",
    "        output.setdefault(g, 0)\n",
    "        output[g] += 1\n",
    "    values_json = json.dumps(output, sort_keys=True, separators=(',', ':'))\n",
    "    textfile = open('rawSAX/'+locationame+'/'+locationame+dataname+'.json', 'a')\n",
    "    textfile.write(values_json+\"\\n\")\n",
    "#     print(type(values_json))\n",
    "#     # print(nlabel(n) + str(values_json))\n",
    "    print(values_json)\n",
    "# text_file.close()\n",
    "# pd.read_json(values_json, typ='series')"
   ]
  },
  {
   "cell_type": "code",
   "execution_count": null,
   "metadata": {},
   "outputs": [],
   "source": []
  },
  {
   "cell_type": "code",
   "execution_count": null,
   "metadata": {},
   "outputs": [],
   "source": [
    "\n",
    "a = data.loc[16].values\n",
    "input = a[:12]\n",
    "print(input)\n",
    "n = 2\n",
    "output = {}\n",
    "for i in range(len(input)-n+1):\n",
    "    g = ' '.join(input[i:i+n])\n",
    "    output.setdefault(g, 0)\n",
    "    output[g] += 1\n",
    "# print (nlabel(n) + str(output))\n",
    "# print (output)\n",
    "values_json = json.dumps(output, sort_keys=True, separators=(',', ':'))\n",
    "# print(nlabel(n) + str(values_json))\n",
    "print(values_json)"
   ]
  },
  {
   "cell_type": "code",
   "execution_count": null,
   "metadata": {},
   "outputs": [],
   "source": [
    "a = data.loc[16].values"
   ]
  },
  {
   "cell_type": "code",
   "execution_count": null,
   "metadata": {},
   "outputs": [],
   "source": [
    "len(a)\n",
    "a[:12]"
   ]
  },
  {
   "cell_type": "code",
   "execution_count": null,
   "metadata": {},
   "outputs": [],
   "source": [
    "def testing(x,y):\n",
    "    "
   ]
  }
 ],
 "metadata": {
  "kernelspec": {
   "display_name": "Python 3",
   "language": "python",
   "name": "python3"
  },
  "language_info": {
   "codemirror_mode": {
    "name": "ipython",
    "version": 3
   },
   "file_extension": ".py",
   "mimetype": "text/x-python",
   "name": "python",
   "nbconvert_exporter": "python",
   "pygments_lexer": "ipython3",
   "version": "3.6.2"
  }
 },
 "nbformat": 4,
 "nbformat_minor": 2
}
